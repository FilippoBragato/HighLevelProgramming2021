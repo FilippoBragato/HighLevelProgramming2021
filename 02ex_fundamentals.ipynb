{
 "cells": [
  {
   "cell_type": "markdown",
   "metadata": {},
   "source": [
    "1. Write the following expressions using the list comprehension"
   ]
  },
  {
   "cell_type": "code",
   "execution_count": 150,
   "metadata": {},
   "outputs": [
    {
     "name": "stdout",
     "output_type": "stream",
     "text": [
      "[(0, 0), (0, 1), (0, 2), (0, 3), (1, 0), (1, 1), (1, 2), (1, 3), (2, 0), (2, 1), (2, 2), (2, 3)]\n",
      "[1, 9, 25, 49, 81]\n"
     ]
    }
   ],
   "source": [
    "# 1\n",
    "ans_1 = []\n",
    "for i in range(3):\n",
    "    for j in range(4):\n",
    "        ans_1.append((i, j))\n",
    "print(ans_1)\n",
    "\n",
    "# 2\n",
    "ans_2 = map(lambda x: x * x, filter(lambda x: x % 2 == 1, range(10)))\n",
    "print(list(ans_2))"
   ]
  },
  {
   "cell_type": "code",
   "execution_count": 151,
   "metadata": {},
   "outputs": [
    {
     "name": "stdout",
     "output_type": "stream",
     "text": [
      "[(0, 0), (0, 1), (0, 2), (0, 3), (1, 0), (1, 1), (1, 2), (1, 3), (2, 0), (2, 1), (2, 2), (2, 3)]\n",
      "[1, 9, 25, 49, 81]\n"
     ]
    }
   ],
   "source": [
    "#1\n",
    "ans_3 = [(x, y) for x in range(3) for y in range(4)]\n",
    "print(ans_3)\n",
    "\n",
    "#2\n",
    "ans_4 = [x**2 for x in range(10) if x % 2 == 1]\n",
    "print(ans_4)\n"
   ]
  },
  {
   "cell_type": "markdown",
   "metadata": {},
   "source": [
    "2\\. Convert the function $f$ into a function that doesn't use global variables and that does not modify the original list"
   ]
  },
  {
   "cell_type": "code",
   "execution_count": 152,
   "metadata": {},
   "outputs": [
    {
     "name": "stdout",
     "output_type": "stream",
     "text": [
      "[1, 2, 3, 0, 1, 2, 3, 4]\n",
      "[1, 2, 3, 0, 1, 2, 3, 4]\n"
     ]
    }
   ],
   "source": [
    "x = 5\n",
    "def f(alist):\n",
    "    for i in range(x):\n",
    "         alist.append(i)\n",
    "    return alist\n",
    "\n",
    "alist = [1,2,3]\n",
    "ans = f(alist)\n",
    "print(ans)\n",
    "print(alist) # alist has been changed!"
   ]
  },
  {
   "cell_type": "code",
   "execution_count": 153,
   "metadata": {},
   "outputs": [
    {
     "name": "stdout",
     "output_type": "stream",
     "text": [
      "[1, 2, 3, 0, 1, 2, 3, 4]\n",
      "[1, 2, 3]\n"
     ]
    }
   ],
   "source": [
    "def f(alist, x=5):\n",
    "    ans = alist.copy()\n",
    "    for i in range(x):\n",
    "         ans.append(i)\n",
    "    return ans\n",
    "\n",
    "alist = [1,2,3]\n",
    "ans = f(alist, 5)\n",
    "print(ans)\n",
    "print(alist)"
   ]
  },
  {
   "cell_type": "markdown",
   "metadata": {},
   "source": [
    "3\\. Write a `decorator` hello that makes every wrapped function print “Hello!”, i.e. something like:\n",
    "\n",
    "```python\n",
    "@hello\n",
    "def square(x):\n",
    "    return x*x\n",
    "```\n",
    "\n"
   ]
  },
  {
   "cell_type": "code",
   "execution_count": 154,
   "metadata": {},
   "outputs": [
    {
     "name": "stdout",
     "output_type": "stream",
     "text": [
      "Hello!\n",
      "36\n"
     ]
    }
   ],
   "source": [
    "def hello_decorator(func):\n",
    "    def say_hello(x):\n",
    "        print(\"Hello!\")\n",
    "        return func(x)\n",
    "    return say_hello\n",
    "\n",
    "@hello_decorator\n",
    "def square(x):\n",
    "    return x**2\n",
    "\n",
    "print(square(6))"
   ]
  },
  {
   "cell_type": "markdown",
   "metadata": {},
   "source": [
    "4\\. Write the factorial function in two different ways, so that it a) does and b) does not use recursion."
   ]
  },
  {
   "cell_type": "code",
   "execution_count": 155,
   "metadata": {},
   "outputs": [
    {
     "name": "stdout",
     "output_type": "stream",
     "text": [
      "0! = 1 1 True\n",
      "1! = 1 1 True\n",
      "2! = 2 2 True\n",
      "3! = 6 6 True\n",
      "iter_factorial(1.5) failed\n",
      "rec_factorial(1.5) failed\n",
      "iter_factorial(-2) failed\n",
      "rec_factorial(-2) failed\n"
     ]
    }
   ],
   "source": [
    "#a\n",
    "def iter_factorial(x):\n",
    "    if(x < 0 or type(x)!=int):\n",
    "        raise Exception(\"Factorial is defined only for non negative natural numbers\")\n",
    "    out = 1\n",
    "    for i in range(x):\n",
    "        out *= i+1\n",
    "    return out\n",
    "\n",
    "#b\n",
    "def rec_factorial(x):\n",
    "    if(x < 0 or type(x)!=int):\n",
    "        raise Exception(\"Factorial is defined only for non negative natural numbers\")\n",
    "    if x == 0: return 1\n",
    "    return x*rec_factorial(x-1)\n",
    "\n",
    "for i in range(4):\n",
    "    a = iter_factorial(i)\n",
    "    b = rec_factorial(i)\n",
    "    print(\"{}! =\".format(i),a, b, a==b)\n",
    "\n",
    "fail_value = [1.5, -2]\n",
    "for fail_v in fail_value:\n",
    "    try:\n",
    "        iter_factorial(fail_value)\n",
    "    except:\n",
    "        print('iter_factorial({}) failed'.format(fail_v))\n",
    "    try:\n",
    "        rec_factorial(fail_value)\n",
    "    except:\n",
    "        print('rec_factorial({}) failed'.format(fail_v))"
   ]
  },
  {
   "cell_type": "markdown",
   "metadata": {},
   "source": [
    "5\\. Use HOFs (zip in particular) to compute the weight of a circle, a disk and a sphere, assuming different radii and different densities:\n",
    "\n",
    "```python\n",
    "densities = {\"Al\" : [0.5, 1, 2], \"Fe\" : [3, 4, 5], \"Pb\" : [15, 20, 30]}\n",
    "radii = [1, 2, 3]\n",
    "```\n",
    "\n",
    "where the entries of the dictionary's values are the linear, superficial and volumetric densities of the materials respectively.\n",
    "\n",
    "Subsequently, define a list using a comprehension with three lambda functions that compute the circumference, the area and the volume for a given radius.\n"
   ]
  },
  {
   "cell_type": "code",
   "execution_count": 156,
   "metadata": {},
   "outputs": [
    {
     "name": "stdout",
     "output_type": "stream",
     "text": [
      "\n",
      " Al\n",
      "circle\n",
      "Radius = 1,\tDensity = 0.5,\t Weight = 3.141592653589793\n",
      "disk\n",
      "Radius = 2,\tDensity = 1,\t Weight = 12.566370614359172\n",
      "sphere\n",
      "Radius = 3,\tDensity = 2,\t Weight = 226.19467105846508\n",
      "\n",
      " Fe\n",
      "circle\n",
      "Radius = 1,\tDensity = 3,\t Weight = 18.84955592153876\n",
      "disk\n",
      "Radius = 2,\tDensity = 4,\t Weight = 50.26548245743669\n",
      "sphere\n",
      "Radius = 3,\tDensity = 5,\t Weight = 565.4866776461627\n",
      "\n",
      " Pb\n",
      "circle\n",
      "Radius = 1,\tDensity = 15,\t Weight = 94.24777960769379\n",
      "disk\n",
      "Radius = 2,\tDensity = 20,\t Weight = 251.32741228718345\n",
      "sphere\n",
      "Radius = 3,\tDensity = 30,\t Weight = 3392.920065876976\n",
      "\n",
      " [(6.283185307179586, 3.141592653589793, 4.1887902047863905), (12.566370614359172, 12.566370614359172, 33.510321638291124), (18.84955592153876, 28.274333882308138, 113.09733552923254)]\n"
     ]
    }
   ],
   "source": [
    "from math import pi\n",
    "densities = {\"Al\" : [0.5, 1, 2], \"Fe\" : [3, 4, 5], \"Pb\" : [15, 20, 30]}\n",
    "radii = [1, 2, 3]\n",
    "for material in densities:\n",
    "    print('\\n',material)\n",
    "    for i, (r, density) in enumerate(zip(radii, densities.get(material))):\n",
    "        if (i == 0):\n",
    "            print('circle')\n",
    "            w = 2*pi*r*density\n",
    "        elif(i == 1):\n",
    "            print('disk')\n",
    "            w = pi*(r**2)*density\n",
    "        else:\n",
    "            print('sphere')\n",
    "            w = 4/3*pi*(r**3)*density\n",
    "        print(\"Radius = {},\\tDensity = {},\\t Weight = {}\".format(r, density, w))\n",
    "li = [((lambda x : 2*pi*x)(x), (lambda x : pi*x**2)(x), (lambda x :4/3*pi*x**3)(x)) for x in radii]\n",
    "print('\\n',li)"
   ]
  },
  {
   "cell_type": "markdown",
   "metadata": {},
   "source": [
    "6\\. Edit the class defintion to add an instance attribute of `is_hungry = True` to the Dog class. Then add a method called `eat()` which changes the value of `is_hungry` to `False` when called. Figure out the best way to instantiate the dog objects and to feed the dogs, e.g. call the `eat()` method for all instances. Finally, print “My dogs are hungry.” or “My dogs are not hungry.” if all of them have `is_hungry = True` or `False`, respectively. The final output should look like this:\n",
    "\n",
    "`I have 3 dogs. \n",
    "Tom is 6. \n",
    "Fletcher is 7. \n",
    "Larry is 9. \n",
    "And they're all mammals, of course. \n",
    "My dogs are not hungry.\n",
    "`\n",
    "\n",
    "```python\n",
    "# Parent class\n",
    "class Dog:\n",
    "\n",
    "    # Class attribute\n",
    "    species = 'mammal'\n",
    "\n",
    "    # Initializer / Instance attributes\n",
    "    def __init__(self, name, age):\n",
    "        self.name = name\n",
    "        self.age = age\n",
    "\n",
    "    # instance method\n",
    "    def description(self):\n",
    "        return \"{} is {} years old\".format(self.name, self.age)\n",
    "\n",
    "    # instance method\n",
    "    def speak(self, sound):\n",
    "        return \"{} says {}\".format(self.name, sound)\n",
    "\n",
    "# Child class (inherits from Dog class)\n",
    "class RussellTerrier(Dog):\n",
    "    def run(self, speed):\n",
    "        return \"{} runs {}\".format(self.name, speed)\n",
    "\n",
    "# Child class (inherits from Dog class)\n",
    "class Bulldog(Dog):\n",
    "    def run(self, speed):\n",
    "        return \"{} runs {}\".format(self.name, speed)\n",
    "```"
   ]
  },
  {
   "cell_type": "code",
   "execution_count": 157,
   "metadata": {},
   "outputs": [
    {
     "name": "stdout",
     "output_type": "stream",
     "text": [
      "I have 3 dogs. Tom is 6. Fletcher is 7. Larry is 9. They are all mammals, of course. My dogs are hungry.\n",
      "I'm feeding my dogs\n",
      "I have 3 dogs. Tom is 6. Fletcher is 7. Larry is 9. They are all mammals, of course. My dogs are not hungry.\n"
     ]
    }
   ],
   "source": [
    "# Parent class\n",
    "class Dog:\n",
    "\n",
    "    # Class attribute\n",
    "    species = 'mammal'\n",
    "    is_hungry = True\n",
    "\n",
    "    # Initializer / Instance attributes\n",
    "    def __init__(self, name, age):\n",
    "        self.name = name\n",
    "        self.age = age\n",
    "\n",
    "    # instance method\n",
    "    def description(self):\n",
    "        return \"{} is {}. \".format(self.name, self.age)\n",
    "\n",
    "    # instance method\n",
    "    def speak(self, sound):\n",
    "        return \"{} says {}\".format(self.name, sound)\n",
    "\n",
    "    def eat(self):\n",
    "        self.is_hungry = False\n",
    "\n",
    "# Child class (inherits from Dog class)\n",
    "class RussellTerrier(Dog):\n",
    "    def run(self, speed):\n",
    "        return \"{} runs {}\".format(self.name, speed)\n",
    "\n",
    "# Child class (inherits from Dog class)\n",
    "class Bulldog(Dog):\n",
    "    def run(self, speed):\n",
    "        return \"{} runs {}\".format(self.name, speed)\n",
    "#`I have 3 dogs. Tom is 6. Fletcher is 7. Larry is 9. And they're all mammals, of course. My dogs are not hungry.\n",
    "from functools import reduce\n",
    "\n",
    "\n",
    "def to_sting_dogs(dogs):\n",
    "    out = \"I have {} dogs. \".format(len(dogs))\n",
    "    for dog in dogs:\n",
    "        out += Dog.description(dog)\n",
    "    out += \"They are all {}s, of course. \".format(dogs[0].species)\n",
    "    li_hungry = list(map(lambda x : x.is_hungry, dogs))\n",
    "    if (reduce(lambda x,y: x and y, li_hungry)):\n",
    "        out += \"My dogs are hungry.\"\n",
    "    elif (reduce(lambda x,y: x and y, map(lambda x: not x, li_hungry))):\n",
    "        out += \"My dogs are not hungry.\"\n",
    "    else:\n",
    "        out += \"Some of them are hungry.\"\n",
    "    return out\n",
    "\n",
    "names = ('Tom', 'Fletcher', 'Larry')\n",
    "ages = (6, 7, 9)\n",
    "dogs = ()\n",
    "for n, a in zip(names, ages):\n",
    "    dogs = dogs + (Dog(n, a),)\n",
    "print(to_sting_dogs(dogs))\n",
    "print('I\\'m feeding my dogs')\n",
    "for dog in dogs:\n",
    "    dog.eat()\n",
    "print(to_sting_dogs(dogs))"
   ]
  }
 ],
 "metadata": {
  "interpreter": {
   "hash": "2647ea34e536f865ab67ff9ddee7fd78773d956cec0cab53c79b32cd10da5d83"
  },
  "kernelspec": {
   "display_name": "Python 3.9.7 64-bit",
   "name": "python3"
  },
  "language_info": {
   "codemirror_mode": {
    "name": "ipython",
    "version": 3
   },
   "file_extension": ".py",
   "mimetype": "text/x-python",
   "name": "python",
   "nbconvert_exporter": "python",
   "pygments_lexer": "ipython3",
   "version": "3.9.7"
  }
 },
 "nbformat": 4,
 "nbformat_minor": 2
}
