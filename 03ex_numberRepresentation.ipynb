{
 "cells": [
  {
   "cell_type": "markdown",
   "metadata": {},
   "source": [
    "1\\. Write a function that converts numbers among the bin, dec, and hex representations (bin<->dec<->hex)"
   ]
  },
  {
   "cell_type": "code",
   "execution_count": 1,
   "metadata": {},
   "outputs": [
    {
     "name": "stdout",
     "output_type": "stream",
     "text": [
      "(29, '0b11101', '0x1d')\n",
      "(29, '0b11101', '0x1d')\n",
      "(29, '0b11101', '0x1d')\n"
     ]
    }
   ],
   "source": [
    "def converter(a):\n",
    "    if(type(a) == int):\n",
    "        return a, bin(a), hex(a)\n",
    "    elif(type(a) == str):\n",
    "        if a[0] == '0':\n",
    "            if a[1] == 'b':\n",
    "                a_decimal = int (a, 2) \n",
    "                return a_decimal, a, hex(a_decimal)\n",
    "            elif a[1] == 'x':\n",
    "                a_decimal = int (a, 16) \n",
    "                return a_decimal, bin(a_decimal), a\n",
    "            else:\n",
    "                raise Exception('Format not valid')\n",
    "        else:\n",
    "            raise Exception('Format not valid')\n",
    "    else:\n",
    "        raise Exception('Type not valid')\n",
    "    \n",
    "\n",
    "x = 29\n",
    "print(converter(x))\n",
    "x = bin(x)\n",
    "print(converter(x))\n",
    "x = hex(int(x,2))\n",
    "print(converter(x))\n"
   ]
  },
  {
   "cell_type": "markdown",
   "metadata": {},
   "source": [
    "2\\. Write a function that converts a 32 bit word into a single precision floating point (i.e. interprets the various bits as sign, mantissa and exponent) and check its validity."
   ]
  },
  {
   "cell_type": "code",
   "execution_count": 2,
   "metadata": {},
   "outputs": [
    {
     "name": "stdout",
     "output_type": "stream",
     "text": [
      "-649.46826171875 == -649.46826171875 True\n",
      "-3628.918212890625 == -3628.918212890625 True\n",
      "-3087.469970703125 == -3087.469970703125 True\n",
      "2019.52392578125 == 2019.52392578125 True\n",
      "-4957.02392578125 == -4957.02392578125 True\n",
      "3091.417724609375 == 3091.417724609375 True\n",
      "3993.662353515625 == 3993.662353515625 True\n",
      "288.43182373046875 == 288.43182373046875 True\n",
      "-774.9124755859375 == -774.9124755859375 True\n",
      "-441.7502136230469 == -441.7502136230469 True\n"
     ]
    }
   ],
   "source": [
    "import struct\n",
    "import random\n",
    "\n",
    "def create_mask(n_of_bits):\n",
    "    mask = '0b'\n",
    "    for i in range(n_of_bits):\n",
    "        mask += '1'\n",
    "    return int(mask, 2)\n",
    "\n",
    "def converter(x):\n",
    "    m_n_of_bits = 23\n",
    "    e_n_of_bits = 8\n",
    "    s_n_of_bits = 1\n",
    "    #mantissa\n",
    "    int_mantissa = create_mask(m_n_of_bits) & x\n",
    "    float_mantissa = 1.0\n",
    "    negative_power_two = 1\n",
    "    submask = '0b1'\n",
    "    for i in range(m_n_of_bits -1):\n",
    "        submask += '0'\n",
    "    submask = int(submask, 2)\n",
    "    for i in range(m_n_of_bits):\n",
    "        negative_power_two *= 0.5\n",
    "        if (submask & int_mantissa == submask):\n",
    "            float_mantissa += negative_power_two\n",
    "        int_mantissa = int_mantissa << 1\n",
    "    #exponent\n",
    "    x = x >> m_n_of_bits\n",
    "    int_exponent = (create_mask(e_n_of_bits) & x) - 127\n",
    "    #sign\n",
    "    x = x >> e_n_of_bits\n",
    "    if create_mask(s_n_of_bits) & x:\n",
    "        float_mantissa *= (-1)\n",
    "    return(float_mantissa*2**(int_exponent))\n",
    "\n",
    "for i in range(10):\n",
    "    number_to_convert = (random.random()-0.5)* 10000\n",
    "    bin_number = struct.pack('>f', number_to_convert)\n",
    "    int_bin_num = struct.unpack('>l', bin_number)[0] #Binary but in int type\n",
    "    float_number = struct.unpack('>f', bin_number)[0]\n",
    "    my_conversion = converter(int_bin_num)\n",
    "    print(float_number, \"==\", my_conversion, float_number == my_conversion)\n"
   ]
  },
  {
   "cell_type": "markdown",
   "metadata": {},
   "source": [
    "3\\. Write a program to determine the underflow and overflow limits (within a factor of 2) for python on your computer. \n",
    "\n",
    "**Tip**: define two variables initialized to 1 and halve/double them for a sufficient amount of times to exceed the under/over-flow limits  "
   ]
  },
  {
   "cell_type": "code",
   "execution_count": 3,
   "metadata": {},
   "outputs": [
    {
     "name": "stdout",
     "output_type": "stream",
     "text": [
      "Max value = 8.98846567431158e+307\n",
      "Min value = 5e-324\n"
     ]
    }
   ],
   "source": [
    "#Integers do not overflow\n",
    "import math\n",
    "over = 1.0\n",
    "while True:\n",
    "    next_value = over*2\n",
    "    if math.isinf(next_value):\n",
    "        print('Max value =', over)\n",
    "        break\n",
    "    else:\n",
    "        over = next_value\n",
    "under = 1.0\n",
    "while True:\n",
    "    next_value = under/2\n",
    "    if next_value == 0:\n",
    "        print('Min value =', under)\n",
    "        break\n",
    "    else:\n",
    "        under = next_value\n"
   ]
  },
  {
   "cell_type": "markdown",
   "metadata": {},
   "source": [
    "4\\. Write a program to determine the machine precision\n",
    "\n",
    "**Tip**: define a new variable by adding an increasingly smaller value (in the same way as the previous problem) and check when the addition starts to have no effect on the number"
   ]
  },
  {
   "cell_type": "code",
   "execution_count": 4,
   "metadata": {},
   "outputs": [
    {
     "name": "stdout",
     "output_type": "stream",
     "text": [
      "5e-324\n",
      "1.1102230246251565e-16\n",
      "7.105427357601002e-15\n",
      "9.094947017729282e-13\n",
      "5.820766091346741e-11\n",
      "7.450580596923828e-09\n"
     ]
    }
   ],
   "source": [
    "def precision(centre):\n",
    "    #centre in 0 would return 0, because 0 + delta == 0 is true only if delta underflows\n",
    "    if centre == 0:\n",
    "        under = 1.0\n",
    "        while True:\n",
    "            next_value = under/2\n",
    "            if next_value == 0:\n",
    "                return under\n",
    "            else:\n",
    "                under = next_value\n",
    "    delta = 1.0\n",
    "    while True:\n",
    "        if centre + delta == centre:\n",
    "            return delta\n",
    "        delta /= 2\n",
    "\n",
    "print(precision(0))\n",
    "print(precision(1))\n",
    "print(precision(100))\n",
    "print(precision(10000))\n",
    "print(precision(1000000))\n",
    "print(precision(100000000))"
   ]
  },
  {
   "cell_type": "markdown",
   "metadata": {},
   "source": [
    "5\\. Write a function that takes in input three parameters $a$, $b$ and $c$ and prints out the two solutions to the quadratic equation $ax^2+bx+c=0$ using the standard formula:\n",
    "$$\n",
    "x=\\frac{-b\\pm\\sqrt{b^2-4ac}}{2a}\n",
    "$$\n",
    "\n",
    "(a) use the program to compute the solution for $a=0.001$, $b=1000$ and $c=0.001$\n",
    "\n",
    "(b) re-express the standard solution formula by multiplying the numerator and the denominator by $-b\\mp\\sqrt{b^2-4ac}$ and again find the solution for $a=0.001$, $b=1000$ and $c=0.001$. How does it compare with what has been previously obtained, and why?\n",
    "\n",
    "(c) write a function that computes the roots of a quadratic equation accurately in all cases"
   ]
  },
  {
   "cell_type": "code",
   "execution_count": 5,
   "metadata": {},
   "outputs": [
    {
     "name": "stdout",
     "output_type": "stream",
     "text": [
      "Solutions are -1.000000e-06, -1.000000e+06\n",
      "\n",
      "-9.999894e-07, -1.000000e+06 \n",
      "First solution is wrong\n",
      "-1.000000e-06, -1.000011e+06 \n",
      "Second solution is wrong\n",
      "\n",
      "The problem is related to the calculus of b-r, to obtain a stable version we need to avoid this subtraction\n",
      "\n",
      "With stable version:\n",
      "-1.000000e-06, -1.000000e+06\n"
     ]
    }
   ],
   "source": [
    "def roots(a, b, c):\n",
    "    r = (b**2-4*a*c)**0.5\n",
    "    return (-b+r)/(2*a), (-b-r)/(2*a)\n",
    "\n",
    "def roots2(a, b, c):\n",
    "    r = (b**2-4*a*c)**0.5\n",
    "    return -(2*a*c)/(a*(b+r)),(2*a*c)/(a*(-b+r))\n",
    "\n",
    "print('Solutions are {:e}, {:e}\\n'.format(-10**(-6), -10**(6)))\n",
    "r = roots(0.001, 1000, 0.001)\n",
    "print('{:e}, {:e}'.format(r[0], r[1]),'\\nFirst solution is wrong')\n",
    "r = roots2(0.001, 1000, 0.001)\n",
    "print('{:e}, {:e}'.format(r[0], r[1]),'\\nSecond solution is wrong\\n')\n",
    "\n",
    "print('The problem is related to the calculus of b-r, to obtain a stable version we need to avoid this subtraction\\n')\n",
    "\n",
    "def stable_roots(a,b,c):\n",
    "    r = (b**2-4*a*c)**0.5\n",
    "    return -(2*a*c)/(a*(b+r)), -(b+r)/(2*a)\n",
    "\n",
    "r = stable_roots(0.001, 1000, 0.001)\n",
    "print('With stable version:\\n{:e}, {:e}'.format(r[0], r[1]))\n"
   ]
  },
  {
   "cell_type": "markdown",
   "metadata": {},
   "source": [
    "6\\. Write a program that implements the function $f(x)=x(x−1)$\n",
    "\n",
    "(a) Calculate the derivative of the function at the point $x = 1$ using the derivative definition:\n",
    "\n",
    "$$\n",
    "\\frac{{\\rm d}f}{{\\rm d}x} = \\lim_{\\delta\\to0} \\frac{f(x+\\delta)-f(x)}{\\delta}\n",
    "$$\n",
    "\n",
    "with $\\delta = 10^{−2}$. Calculate the true value of the same derivative analytically and compare it with the answer your program gives. The two will not agree perfectly. Why?\n",
    "\n",
    "(b) Repeat the calculation for $\\delta = 10^{−4}, 10^{−6}, 10^{−8}, 10^{−10}, 10^{−12}$ and $10^{−14}$. How does the accuracy scales with $\\delta$?"
   ]
  },
  {
   "cell_type": "code",
   "execution_count": 6,
   "metadata": {},
   "outputs": [
    {
     "name": "stdout",
     "output_type": "stream",
     "text": [
      "For the given function the derivative is f'(x)=2x-1.\n",
      "So the value in x=1 should be f'(1)=1\n",
      "But for the given formula the result is df/dx(1) = 1 + δ\n",
      "\n",
      "with δ = 1.000000e-02 the value f'(1) = 1.010000000000001\n",
      "The difference from the analytic result is = 8.881784e-16\n",
      "The difference from f'(1) = 1 is 1.000000e-02\n",
      "\n",
      "with δ = 1.000000e-04 the value f'(1) = 1.0000999999998899\n",
      "The difference from the analytic result is = -1.101341e-13\n",
      "The difference from f'(1) = 1 is 1.000000e-04\n",
      "\n",
      "with δ = 1.000000e-06 the value f'(1) = 1.0000009999177333\n",
      "The difference from the analytic result is = -8.226664e-11\n",
      "The difference from f'(1) = 1 is 9.999177e-07\n",
      "\n",
      "with δ = 1.000000e-08 the value f'(1) = 1.0000000039225287\n",
      "The difference from the analytic result is = -6.077471e-09\n",
      "The difference from f'(1) = 1 is 3.922529e-09\n",
      "\n",
      "with δ = 1.000000e-10 the value f'(1) = 1.000000082840371\n",
      "The difference from the analytic result is = 8.274037e-08\n",
      "The difference from f'(1) = 1 is 8.284037e-08\n",
      "\n",
      "with δ = 1.000000e-12 the value f'(1) = 1.0000889005833413\n",
      "The difference from the analytic result is = 8.890058e-05\n",
      "The difference from f'(1) = 1 is 8.890058e-05\n",
      "\n",
      "with δ = 1.000000e-14 the value f'(1) = 0.9992007221626509\n",
      "The difference from the analytic result is = -7.992778e-04\n",
      "The difference from f'(1) = 1 is -7.992778e-04\n",
      "\n",
      "We can observe that for bigger value of δ the result is close to the analytic result 1 + δ but far away form the true result.\n",
      "As δ decreases the result gets farther from the analytical one but closer to the true result.\n",
      "This due to the fact that the function is well-conditioned but the algorithm is unstable.\n",
      "The best tradeoff is δ = 10^(-8)\n"
     ]
    }
   ],
   "source": [
    "def my_function(x):\n",
    "    return x*(x-1)\n",
    "\n",
    "def definition_derivative(fun, x, delta):\n",
    "    return (fun(x+delta) - fun(x))/delta\n",
    "\n",
    "print('For the given function the derivative is f\\'(x)=2x-1.\\nSo the value in x=1 should be f\\'(1)=1\\nBut for the given formula the result is df/dx(1) = 1 + \\u03B4\\n')\n",
    "\n",
    "for i in range(1, 8):\n",
    "    print('with \\u03B4 = {:e} the value f\\'(1) = {}\\nThe difference from the analytic result is = {:e}\\nThe difference from f\\'(1) = 1 is {:e}\\n'.format(10**(-2*i), definition_derivative(my_function, 1, 10**(-2*i)),definition_derivative(my_function, 1, 10**(-2*i)) - (1 + 10**(-2*i)), definition_derivative(my_function, 1, 10**(-2*i)) -1))\n",
    "\n",
    "print('We can observe that for bigger value of \\u03B4 the result is close to the analytic result 1 + \\u03B4 but far away form the true result.\\nAs \\u03B4 decreases the result gets farther from the analytical one but closer to the true result.\\nThis due to the fact that the function is well-conditioned but the algorithm is unstable.\\nThe best tradeoff is \\u03B4 = 10^(-8)')"
   ]
  },
  {
   "cell_type": "markdown",
   "metadata": {},
   "source": [
    "7\\. Consider the integral of the semicircle of radius 1:\n",
    "$$\n",
    "I=\\int_{-1}^{1} \\sqrt(1-x^2) {\\rm d}x\n",
    "$$\n",
    "which is known to be $I=\\frac{\\pi}{2}=1.57079632679...$.\n",
    "\n",
    "Alternatively we can use the Riemann definition of the integral:\n",
    "$$\n",
    "I=\\lim_{N\\to\\infty} \\sum_{k=1}^{N} h y_k \n",
    "$$\n",
    "\n",
    "with $h=2/N$ the width of each of the $N$ slices the domain is divided into and where\n",
    "$y_k$ is the value of the function at the $k-th$ slice.\n",
    "\n",
    "(a) Write a program to compute the integral with $N=100$. How does the result compare to the true value?\n",
    "\n",
    "(b) How much can $N$ be increased if the computation needs to be run in less than a second? What is the gain in running it for 1 minute? \n"
   ]
  },
  {
   "cell_type": "code",
   "execution_count": 7,
   "metadata": {},
   "outputs": [
    {
     "name": "stdout",
     "output_type": "stream",
     "text": [
      "Since the number of operation is linear in N also the time to execute the function is roughly linear in N, with some trials I obtained:\n",
      "\n",
      "With N = 100\n",
      "1.5712827762297958 relative error 0.030958745444056295 %\n",
      "Time to compute it =  3.8356933e-05 s\n",
      "\n",
      "With N = 2400000\n",
      "1.5707963269259537 relative error 8.343358261906239e-09 %\n",
      "Time to compute it =  0.98158259 s\n",
      "\n",
      "With N = 135000000\n",
      "1.5707963267949145 relative error 1.1449996853268528e-12 %\n",
      "Time to compute it =  58.8568861 s\n",
      "\n"
     ]
    },
    {
     "data": {
      "image/png": "[encoded data removed]",
      "text/plain": [
       "<Figure size 432x288 with 1 Axes>"
      ]
     },
     "metadata": {
      "needs_background": "light"
     },
     "output_type": "display_data"
    },
    {
     "name": "stdout",
     "output_type": "stream",
     "text": [
      "The relative error is inversely proportional to N, this relationship is not linear as you can see from the graph\n"
     ]
    }
   ],
   "source": [
    "from math import pi\n",
    "import timeit\n",
    "import matplotlib.pyplot as plt\n",
    "\n",
    "def riemann_integral(fun, N, domain):\n",
    "    half_slice = (domain[1]-domain[0])/(N*2)\n",
    "    mid_slice_value = [domain[0]+half_slice*(1+2*x) for x in range(N)]\n",
    "    out = 0\n",
    "    for v in mid_slice_value:\n",
    "        out += 2*half_slice*fun(v)\n",
    "    return out\n",
    "\n",
    "def semicircle(x):\n",
    "    return (1-x**2)**0.5\n",
    "\n",
    "print('Since the number of operation is linear in N also the time to execute the function is roughly linear in N, with some trials I obtained:\\n')\n",
    "def my_timer(n_slices, n_trial):\n",
    "    print('With N =', n_slices)\n",
    "    i = riemann_integral(semicircle, n_slices, (-1,1))\n",
    "    print(i, 'relative error', 100*(i-(pi/2))/i, '%')\n",
    "    print(\"Time to compute it = \", timeit.timeit('riemann_integral(semicircle, '+str(n_slices)+', (-1,1))', 'from __main__ import riemann_integral, semicircle', number=n_trial)/n_trial,'s\\n')\n",
    "\n",
    "my_timer(100, 100000)\n",
    "my_timer(2400000, 10)\n",
    "my_timer(135000000, 1)\n",
    "\n",
    "x = ()\n",
    "y = ()\n",
    "for N in range(100,1000):\n",
    "    i = riemann_integral(semicircle, N, (-1,1))\n",
    "    x += (N, )\n",
    "    y += (100*(i-(pi/2))/i, )\n",
    "\n",
    "plt.plot(x,y)\n",
    "plt.xlabel('Number of slices')\n",
    "plt.ylabel('Relative error of the calculation (%)')\n",
    "plt.show()\n",
    "\n",
    "print('The relative error is inversely proportional to N, this relationship is not linear as you can see from the graph')"
   ]
  }
 ],
 "metadata": {
  "interpreter": {
   "hash": "2647ea34e536f865ab67ff9ddee7fd78773d956cec0cab53c79b32cd10da5d83"
  },
  "kernelspec": {
   "display_name": "Python 3.9.7 64-bit",
   "name": "python3"
  },
  "language_info": {
   "codemirror_mode": {
    "name": "ipython",
    "version": 3
   },
   "file_extension": ".py",
   "mimetype": "text/x-python",
   "name": "python",
   "nbconvert_exporter": "python",
   "pygments_lexer": "ipython3",
   "version": "3.9.7"
  }
 },
 "nbformat": 4,
 "nbformat_minor": 2
}
