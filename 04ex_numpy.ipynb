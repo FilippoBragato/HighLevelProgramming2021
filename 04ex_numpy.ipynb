{
 "cells": [
  {
   "cell_type": "code",
   "execution_count": 1,
   "metadata": {},
   "outputs": [],
   "source": [
    "import numpy as np\n",
    "import matplotlib.pyplot as plt"
   ]
  },
  {
   "cell_type": "markdown",
   "metadata": {},
   "source": [
    "1\\. Find the total mean, and the mean for each row and column of the following matrix:\n",
    "\n",
    "```python\n",
    "m = np.arange(12).reshape((3,4))\n",
    "```"
   ]
  },
  {
   "cell_type": "code",
   "execution_count": 2,
   "metadata": {},
   "outputs": [
    {
     "name": "stdout",
     "output_type": "stream",
     "text": [
      "[[ 0  1  2  3]\n",
      " [ 4  5  6  7]\n",
      " [ 8  9 10 11]] \n",
      "\n",
      "Total mean = 5.5 \n",
      "\n",
      "Mean of row 0 = 1.5\n",
      "Mean of row 1 = 5.5\n",
      "Mean of row 2 = 9.5\n",
      "\n",
      "Mean of column 0 = 4.0\n",
      "Mean of column 1 = 5.0\n",
      "Mean of column 2 = 6.0\n",
      "Mean of column 3 = 7.0\n"
     ]
    }
   ],
   "source": [
    "m = np.arange(12).reshape((3,4))\n",
    "print(m, '\\n')\n",
    "\n",
    "print('Total mean =', m.mean(), '\\n')\n",
    "\n",
    "for i in range(m.shape[0]):\n",
    "    print('Mean of row {} ='.format(i), m[i,:].mean())\n",
    "print('')\n",
    "\n",
    "for i in range(m.shape[1]):\n",
    "    print('Mean of column {} ='.format(i), m[:,i].mean())"
   ]
  },
  {
   "cell_type": "markdown",
   "metadata": {},
   "source": [
    "2\\. Find the outer product of the following vectors:\n",
    "\n",
    "```python\n",
    "u = np.array([1, 3, 5, 7])\n",
    "v = np.array([2, 4, 6, 8])\n",
    "```\n",
    "\n",
    "Use different methods to do this:\n",
    "\n",
    "   1. Using the function `outer` in numpy\n",
    "   2. Using a nested `for` loop or a list comprehension\n",
    "   3. Using numpy broadcasting operations"
   ]
  },
  {
   "cell_type": "code",
   "execution_count": 3,
   "metadata": {},
   "outputs": [
    {
     "name": "stdout",
     "output_type": "stream",
     "text": [
      "[[ 2  4  6  8]\n",
      " [ 6 12 18 24]\n",
      " [10 20 30 40]\n",
      " [14 28 42 56]] \n",
      "\n",
      "outer_for == outer_np?\t\t\t True\n",
      "outer_broadcast == outer_np?\t\t True\n"
     ]
    }
   ],
   "source": [
    "u = np.array([1, 3, 5, 7])\n",
    "v = np.array([2, 4, 6, 8])\n",
    "\n",
    "outer_np = np.outer(u, v)\n",
    "print(outer_np, '\\n')\n",
    " \n",
    "outer_for = np.zeros((u.size, v.size), 'int32')\n",
    "for i_u in range(u.size):\n",
    "    for i_v in range(v.size):\n",
    "        outer_for[i_u, i_v] = u[i_u]*v[i_v]\n",
    "\n",
    "u_ = u[np.newaxis]\n",
    "outer_broadcast = u_.T * v\n",
    "print('outer_for == outer_np?\\t\\t\\t', np.array_equal(outer_for, outer_np))\n",
    "print('outer_broadcast == outer_np?\\t\\t', np.array_equal(outer_broadcast, outer_np))"
   ]
  },
  {
   "cell_type": "markdown",
   "metadata": {},
   "source": [
    "3\\. Create a 10 by 6 matrix of increasing float numbers, starting from zero and increasing in each step by 0.1, so the output matrix looks like the following:\n",
    "\n",
    "```python\n",
    "m = [[0. 0.1, 0.2 0.3 ... 0.9]\n",
    "     [1.0 1.1 1.2 1.3 ... 1.9]\n",
    "     ...\n",
    "     [5.0 5.1 5.2 5.3 ... 5.9]]\n",
    "```\n",
    "After creating the matrix, set all entries with a decimal part $< 0.4$ to zero."
   ]
  },
  {
   "cell_type": "code",
   "execution_count": 4,
   "metadata": {},
   "outputs": [
    {
     "name": "stdout",
     "output_type": "stream",
     "text": [
      "[[0.  0.1 0.2 0.3 0.4 0.5 0.6 0.7 0.8 0.9]\n",
      " [1.  1.1 1.2 1.3 1.4 1.5 1.6 1.7 1.8 1.9]\n",
      " [2.  2.1 2.2 2.3 2.4 2.5 2.6 2.7 2.8 2.9]\n",
      " [3.  3.1 3.2 3.3 3.4 3.5 3.6 3.7 3.8 3.9]\n",
      " [4.  4.1 4.2 4.3 4.4 4.5 4.6 4.7 4.8 4.9]\n",
      " [5.  5.1 5.2 5.3 5.4 5.5 5.6 5.7 5.8 5.9]] \n",
      "\n",
      "\n",
      "[[0.  0.  0.  0.  0.4 0.5 0.6 0.7 0.8 0.9]\n",
      " [0.  0.  0.  0.  1.4 1.5 1.6 1.7 1.8 1.9]\n",
      " [0.  0.  0.  0.  2.4 2.5 2.6 2.7 2.8 2.9]\n",
      " [0.  0.  0.  0.  3.4 3.5 3.6 3.7 3.8 3.9]\n",
      " [0.  0.  0.  0.  4.4 4.5 4.6 4.7 4.8 4.9]\n",
      " [0.  0.  0.  0.  5.4 5.5 5.6 5.7 5.8 5.9]]\n"
     ]
    }
   ],
   "source": [
    "m = np.linspace(0, 5.9, 60).reshape(6,10)\n",
    "print(m,'\\n\\n')\n",
    "\n",
    "m[(m-np.tile(np.arange(6), (10,1)).T)<0.4] = 0\n",
    "print(m)"
   ]
  },
  {
   "cell_type": "markdown",
   "metadata": {},
   "source": [
    "4\\. Use `np.linspace` to create an array of 100 numbers between 0 and 2π (inclusive).\n",
    "\n",
    "  * Extract every 10th element using the slice notation\n",
    "  * Reverse the array using the slice notation\n",
    "  * Extract elements where the absolute difference between the sin and cos functions evaluated for that element is $< 0.1$\n",
    "  * **Optional**: make a plot showing the sin and cos functions and indicate where they are close"
   ]
  },
  {
   "cell_type": "code",
   "execution_count": 5,
   "metadata": {},
   "outputs": [
    {
     "data": {
      "image/png": "[encoded data removed]",
      "text/plain": [
       "<Figure size 432x288 with 1 Axes>"
      ]
     },
     "metadata": {
      "needs_background": "light"
     },
     "output_type": "display_data"
    }
   ],
   "source": [
    "v = np.linspace(0, 2*np.pi, 100)\n",
    "#print(v, '\\n')\n",
    "\n",
    "v_ = v[9::10]\n",
    "#print(v_, '\\n')\n",
    "\n",
    "v_ = v[::-1]\n",
    "#print(v_, '\\n')\n",
    "\n",
    "v_ = v[np.absolute(np.sin(v)-np.cos(v))<0.1]\n",
    "#print(v_, '\\n')\n",
    "\n",
    "%matplotlib inline \n",
    "plt.plot(v, np.sin(v))\n",
    "plt.plot(v, np.cos(v))\n",
    "plt.scatter(v_, np.sin(v_), color='red')\n",
    "plt.scatter(v_, np.cos(v_), color='red')\n",
    "plt.show()\n"
   ]
  },
  {
   "cell_type": "markdown",
   "metadata": {},
   "source": [
    "5\\. Create a matrix that shows the 10 by 10 multiplication table.\n",
    "\n",
    " * Find the trace of the matrix\n",
    " * Extract the anti-diagonal matrix (this should be ```array([10, 18, 24, 28, 30, 30, 28, 24, 18, 10])```)\n",
    " * Extract the diagonal offset by 1 upwards (this should be ```array([ 2,  6, 12, 20, 30, 42, 56, 72, 90])```)"
   ]
  },
  {
   "cell_type": "code",
   "execution_count": 6,
   "metadata": {},
   "outputs": [
    {
     "name": "stdout",
     "output_type": "stream",
     "text": [
      "[[  1   2   3   4   5   6   7   8   9  10]\n",
      " [  2   4   6   8  10  12  14  16  18  20]\n",
      " [  3   6   9  12  15  18  21  24  27  30]\n",
      " [  4   8  12  16  20  24  28  32  36  40]\n",
      " [  5  10  15  20  25  30  35  40  45  50]\n",
      " [  6  12  18  24  30  36  42  48  54  60]\n",
      " [  7  14  21  28  35  42  49  56  63  70]\n",
      " [  8  16  24  32  40  48  56  64  72  80]\n",
      " [  9  18  27  36  45  54  63  72  81  90]\n",
      " [ 10  20  30  40  50  60  70  80  90 100]]\n",
      "Trace(m) = 385\n",
      "Antidiagonal(m) = [10 18 24 28 30 30 28 24 18 10]\n",
      "Diagonal(m) with offset= [ 2  6 12 20 30 42 56 72 90]\n"
     ]
    }
   ],
   "source": [
    "m = np.outer(np.arange(10)+1,np.arange(10)+1)\n",
    "print(m)\n",
    "print('Trace(m) =', np.trace(m))\n",
    "print('Antidiagonal(m) =', np.fliplr(m).diagonal())\n",
    "print('Diagonal(m) with offset=', np.diagonal(m, offset=1))"
   ]
  },
  {
   "cell_type": "markdown",
   "metadata": {},
   "source": [
    "6\\. Use broadcasting to create a grid of distances.\n",
    "\n",
    "Route 66 crosses the following cities in the US: Chicago, Springfield, Saint-Louis, Tulsa, Oklahoma City, Amarillo, Santa Fe, Albuquerque, Flagstaff, Los Angeles\n",
    "The corresponding positions in miles are: 0, 198, 303, 736, 871, 1175, 1475, 1544, 1913, 2448\n",
    "\n",
    "  * Build a 2D grid of distances among each city along Route 66\n",
    "  * Convert the distances in km"
   ]
  },
  {
   "cell_type": "code",
   "execution_count": 7,
   "metadata": {},
   "outputs": [
    {
     "name": "stdout",
     "output_type": "stream",
     "text": [
      "[[   0  198  303  736  871 1175 1475 1544 1913 2448]\n",
      " [ 198    0  105  538  673  977 1277 1346 1715 2250]\n",
      " [ 303  105    0  433  568  872 1172 1241 1610 2145]\n",
      " [ 736  538  433    0  135  439  739  808 1177 1712]\n",
      " [ 871  673  568  135    0  304  604  673 1042 1577]\n",
      " [1175  977  872  439  304    0  300  369  738 1273]\n",
      " [1475 1277 1172  739  604  300    0   69  438  973]\n",
      " [1544 1346 1241  808  673  369   69    0  369  904]\n",
      " [1913 1715 1610 1177 1042  738  438  369    0  535]\n",
      " [2448 2250 2145 1712 1577 1273  973  904  535    0]] \n",
      "\n",
      "\n",
      "[[   0.        318.650112  487.631232 1184.477184 1401.738624 1890.9792\n",
      "  2373.7824   2484.827136 3078.675072 3939.674112]\n",
      " [ 318.650112    0.        168.98112   865.827072 1083.088512 1572.329088\n",
      "  2055.132288 2166.177024 2760.02496  3621.024   ]\n",
      " [ 487.631232  168.98112     0.        696.845952  914.107392 1403.347968\n",
      "  1886.151168 1997.195904 2591.04384  3452.04288 ]\n",
      " [1184.477184  865.827072  696.845952    0.        217.26144   706.502016\n",
      "  1189.305216 1300.349952 1894.197888 2755.196928]\n",
      " [1401.738624 1083.088512  914.107392  217.26144     0.        489.240576\n",
      "   972.043776 1083.088512 1676.936448 2537.935488]\n",
      " [1890.9792   1572.329088 1403.347968  706.502016  489.240576    0.\n",
      "   482.8032    593.847936 1187.695872 2048.694912]\n",
      " [2373.7824   2055.132288 1886.151168 1189.305216  972.043776  482.8032\n",
      "     0.        111.044736  704.892672 1565.891712]\n",
      " [2484.827136 2166.177024 1997.195904 1300.349952 1083.088512  593.847936\n",
      "   111.044736    0.        593.847936 1454.846976]\n",
      " [3078.675072 2760.02496  2591.04384  1894.197888 1676.936448 1187.695872\n",
      "   704.892672  593.847936    0.        860.99904 ]\n",
      " [3939.674112 3621.024    3452.04288  2755.196928 2537.935488 2048.694912\n",
      "  1565.891712 1454.846976  860.99904     0.      ]]\n"
     ]
    }
   ],
   "source": [
    "positions = np.array((0, 198, 303, 736, 871, 1175, 1475, 1544, 1913, 2448))\n",
    "d = np.absolute(positions-(positions[np.newaxis].T))\n",
    "print(d,'\\n\\n')\n",
    "d_km = d*1.609344\n",
    "print(d_km)"
   ]
  },
  {
   "cell_type": "markdown",
   "metadata": {},
   "source": [
    "7\\. Prime numbers sieve: compute the prime numbers in the 0-N (start with N=99) range with a sieve (mask).\n",
    "  * Check the performances (timeit); how does it scale with N?\n",
    "  * Implement the optimization suggested in the [sieve of Eratosthenes](https://en.wikipedia.org/wiki/Sieve_of_Eratosthenes)"
   ]
  },
  {
   "cell_type": "code",
   "execution_count": 8,
   "metadata": {},
   "outputs": [
    {
     "data": {
      "image/png": "[encoded data removed]",
      "text/plain": [
       "<Figure size 432x288 with 1 Axes>"
      ]
     },
     "metadata": {
      "needs_background": "light"
     },
     "output_type": "display_data"
    },
    {
     "name": "stdout",
     "output_type": "stream",
     "text": [
      "The version based on the definition is polinomialy more than linear, and it escales fast increasing N\n"
     ]
    },
    {
     "data": {
      "image/png": "[encoded data removed]",
      "text/plain": [
       "<Figure size 432x288 with 1 Axes>"
      ]
     },
     "metadata": {
      "needs_background": "light"
     },
     "output_type": "display_data"
    },
    {
     "name": "stdout",
     "output_type": "stream",
     "text": [
      "Erathostenes' version is linear, it is really faster than the other version\n",
      "Prime numbers under 99 = [ 2  3  5  7 11 13 17 19 23 29 31 37 41 43 47 53 59 61 67 71 73 79 83 89\n",
      " 97]\n"
     ]
    }
   ],
   "source": [
    "from math import sqrt\n",
    "import timeit\n",
    "\n",
    "def is_prime(n):\n",
    "    root = int(sqrt(n))\n",
    "    for i in range (2, root+1):\n",
    "        if (n % i==0):\n",
    "            return False\n",
    "    return True\n",
    "\n",
    "def create_mask(n):\n",
    "    return np.array(list(map(is_prime, range(2, n))))\n",
    "\n",
    "x = np.linspace(10, 1000000, 100)\n",
    "y = np.zeros(100)\n",
    "for i, v in enumerate(x):\n",
    "    y[i]= timeit.timeit('create_mask('+str(int(v))+')', 'from __main__ import create_mask, is_prime', number=1)\n",
    "plt.plot(x,y)\n",
    "plt.show()\n",
    "print('The version based on the definition is polinomialy more than linear, and it escales fast increasing N')\n",
    "\n",
    "def create_erathostenes_mask(n):\n",
    "    out = np.ones(n-2, dtype=bool)\n",
    "    # NB acutal number = index + 2\n",
    "    for i, val in enumerate(out):\n",
    "        if val:\n",
    "            out[2*i+2::(i+2)]=0\n",
    "    return out\n",
    "\n",
    "x = np.linspace(10, 1000000, 100)\n",
    "y = np.zeros(100)\n",
    "for i, v in enumerate(x):\n",
    "    y[i]= timeit.timeit('create_erathostenes_mask('+str(int(v))+')', 'from __main__ import create_erathostenes_mask', number=1)\n",
    "plt.plot(x,y)\n",
    "plt.show()\n",
    "print('Erathostenes\\' version is linear, it is really faster than the other version')\n",
    "\n",
    "num = np.arange(2,99)\n",
    "print('Prime numbers under 99 =',num[create_erathostenes_mask(99)])"
   ]
  }
 ],
 "metadata": {
  "kernelspec": {
   "display_name": "Python 3",
   "language": "python",
   "name": "python3"
  },
  "language_info": {
   "codemirror_mode": {
    "name": "ipython",
    "version": 3
   },
   "file_extension": ".py",
   "mimetype": "text/x-python",
   "name": "python",
   "nbconvert_exporter": "python",
   "pygments_lexer": "ipython3",
   "version": "3.9.7"
  }
 },
 "nbformat": 4,
 "nbformat_minor": 2
}
